{
 "cells": [
  {
   "cell_type": "code",
   "execution_count": 20,
   "metadata": {},
   "outputs": [],
   "source": [
    "import numpy as np\n",
    "import csv\n",
    "import os\n",
    "import matplotlib.pyplot as plt\n",
    "from load_cifar import load_data"
   ]
  },
  {
   "cell_type": "code",
   "execution_count": null,
   "metadata": {},
   "outputs": [],
   "source": [
    "data=dict()"
   ]
  },
  {
   "cell_type": "code",
   "execution_count": 17,
   "metadata": {},
   "outputs": [],
   "source": [
    "x = load_data('C:/Users/k_tej/Documents/TEJA/ML_resources/DL_projects/data_sets/cifar-10-batches-py')\n",
    "with open('train_stack.csv','r') as f:\n",
    "    data['train_x'] =  list(csv.reader(f, delimiter=','))\n",
    "with open('test_stack.csv','r') as f:\n",
    "    data['test_x'] = list(csv.reader(f,delimiter=','))"
   ]
  },
  {
   "cell_type": "code",
   "execution_count": 19,
   "metadata": {},
   "outputs": [
    {
     "data": {
      "text/plain": [
       "[['1\\t2\\t3\\t4\\t5\\t6\\t7\\t8\\t9\\t10'],\n",
       " ['2\\t3\\t4\\t5\\t6\\t7\\t8\\t9\\t10\\t11'],\n",
       " ['3\\t4\\t5\\t6\\t7\\t8\\t9\\t10\\t11\\t12'],\n",
       " ['4\\t5\\t6\\t7\\t8\\t9\\t10\\t11\\t12\\t13']]"
      ]
     },
     "execution_count": 19,
     "metadata": {},
     "output_type": "execute_result"
    }
   ],
   "source": [
    "data['train_y'] = x['train_y']\n",
    "data['test_y'] = x['test_y']"
   ]
  },
  {
   "cell_type": "code",
   "execution_count": null,
   "metadata": {},
   "outputs": [],
   "source": []
  }
 ],
 "metadata": {
  "kernelspec": {
   "display_name": "Python 3",
   "language": "python",
   "name": "python3"
  },
  "language_info": {
   "codemirror_mode": {
    "name": "ipython",
    "version": 3
   },
   "file_extension": ".py",
   "mimetype": "text/x-python",
   "name": "python",
   "nbconvert_exporter": "python",
   "pygments_lexer": "ipython3",
   "version": "3.6.0"
  }
 },
 "nbformat": 4,
 "nbformat_minor": 2
}
