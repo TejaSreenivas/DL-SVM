{
 "cells": [
  {
   "cell_type": "code",
   "execution_count": 1,
   "metadata": {},
   "outputs": [
    {
     "data": {
      "text/plain": [
       "array([[0.35872027, 0.10289318, 0.20614459, 0.03409875, 0.74437297,\n",
       "        0.02627684, 0.41213769, 0.85724179, 0.70033634, 0.58962467]])"
      ]
     },
     "execution_count": 1,
     "metadata": {},
     "output_type": "execute_result"
    }
   ],
   "source": [
    "import numpy as np\n",
    "x = np.random.rand(1,10)\n",
    "x"
   ]
  },
  {
   "cell_type": "code",
   "execution_count": 2,
   "metadata": {},
   "outputs": [
    {
     "data": {
      "text/plain": [
       "array([[0.35872027, 0.10289318, 0.20614459, 0.03409875, 0.74437297,\n",
       "        0.02627684, 0.41213769, 0.85724179, 0.70033634, 0.58962467],\n",
       "       [0.42401902, 0.63697601, 0.49179014, 0.24851612, 0.78037063,\n",
       "        0.08093438, 0.9762265 , 0.20880163, 0.52959559, 0.29983431]])"
      ]
     },
     "execution_count": 2,
     "metadata": {},
     "output_type": "execute_result"
    }
   ],
   "source": [
    "y = np.vstack((x,np.random.rand(1,10)))\n",
    "y"
   ]
  }
 ],
 "metadata": {
  "kernelspec": {
   "display_name": "Python 3",
   "language": "python",
   "name": "python3"
  },
  "language_info": {
   "codemirror_mode": {
    "name": "ipython",
    "version": 3
   },
   "file_extension": ".py",
   "mimetype": "text/x-python",
   "name": "python",
   "nbconvert_exporter": "python",
   "pygments_lexer": "ipython3",
   "version": "3.6.0"
  }
 },
 "nbformat": 4,
 "nbformat_minor": 2
}
